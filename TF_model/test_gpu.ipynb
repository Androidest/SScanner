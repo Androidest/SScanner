{
 "cells": [
  {
   "cell_type": "code",
   "execution_count": 1,
   "metadata": {},
   "outputs": [
    {
     "name": "stdout",
     "output_type": "stream",
     "text": [
      "Is TF build with CUDA:  False\n",
      "[]\n",
      "TF Version: 2.6.0\n"
     ]
    }
   ],
   "source": [
    "# %%\n",
    "import tensorflow as tf\n",
    "print('Is TF build with CUDA: ', tf.test.is_built_with_cuda())\n",
    "# print(tf.test.is_gpu_available(cuda_only=True, min_cuda_compute_capability=None))\n",
    "print(tf.config.list_physical_devices('GPU'))\n",
    "print('TF Version:', tf.__version__)"
   ]
  },
  {
   "cell_type": "code",
   "execution_count": null,
   "metadata": {},
   "outputs": [],
   "source": []
  }
 ],
 "metadata": {
  "kernelspec": {
   "display_name": "Python 3",
   "language": "python",
   "name": "python3"
  },
  "language_info": {
   "codemirror_mode": {
    "name": "ipython",
    "version": 3
   },
   "file_extension": ".py",
   "mimetype": "text/x-python",
   "name": "python",
   "nbconvert_exporter": "python",
   "pygments_lexer": "ipython3",
   "version": "3.6.9"
  }
 },
 "nbformat": 4,
 "nbformat_minor": 2
}
